{
 "cells": [
  {
   "cell_type": "code",
   "execution_count": 9,
   "id": "ae65187b-f26d-49ea-bc51-9c9cffd9ab56",
   "metadata": {},
   "outputs": [],
   "source": [
    "import pandas as pd\n",
    "import numpy as np\n",
    "import seaborn as sns\n",
    "import matplotlib.pyplot as plt\n",
    "from sklearn.model_selection import train_test_split\n",
    "from sklearn.preprocessing import StandardScaler\n",
    "from imblearn.over_sampling import SMOTE\n",
    "from sklearn.naive_bayes import GaussianNB\n",
    "from sklearn.metrics import accuracy_score, classification_report, confusion_matrix\n",
    "from sklearn.model_selection import train_test_split\n",
    "from sklearn.feature_extraction.text import TfidfVectorizer\n",
    "from sklearn.naive_bayes import MultinomialNB\n",
    "from sklearn.metrics import accuracy_score, classification_report, confusion_matrix\n",
    "from imblearn.over_sampling import SMOTE"
   ]
  },
  {
   "cell_type": "markdown",
   "id": "1cbdd8e2-3b37-4885-b44a-a718fe925429",
   "metadata": {},
   "source": [
    "# Data Loading"
   ]
  },
  {
   "cell_type": "code",
   "execution_count": 10,
   "id": "c4c0b22c-681d-42b2-ad27-8564036e8cec",
   "metadata": {},
   "outputs": [
    {
     "data": {
      "text/html": [
       "<div>\n",
       "<style scoped>\n",
       "    .dataframe tbody tr th:only-of-type {\n",
       "        vertical-align: middle;\n",
       "    }\n",
       "\n",
       "    .dataframe tbody tr th {\n",
       "        vertical-align: top;\n",
       "    }\n",
       "\n",
       "    .dataframe thead th {\n",
       "        text-align: right;\n",
       "    }\n",
       "</style>\n",
       "<table border=\"1\" class=\"dataframe\">\n",
       "  <thead>\n",
       "    <tr style=\"text-align: right;\">\n",
       "      <th></th>\n",
       "      <th>v1</th>\n",
       "      <th>v2</th>\n",
       "      <th>Unnamed: 2</th>\n",
       "      <th>Unnamed: 3</th>\n",
       "      <th>Unnamed: 4</th>\n",
       "    </tr>\n",
       "  </thead>\n",
       "  <tbody>\n",
       "    <tr>\n",
       "      <th>0</th>\n",
       "      <td>ham</td>\n",
       "      <td>Go until jurong point, crazy.. Available only ...</td>\n",
       "      <td>NaN</td>\n",
       "      <td>NaN</td>\n",
       "      <td>NaN</td>\n",
       "    </tr>\n",
       "    <tr>\n",
       "      <th>1</th>\n",
       "      <td>ham</td>\n",
       "      <td>Ok lar... Joking wif u oni...</td>\n",
       "      <td>NaN</td>\n",
       "      <td>NaN</td>\n",
       "      <td>NaN</td>\n",
       "    </tr>\n",
       "    <tr>\n",
       "      <th>2</th>\n",
       "      <td>spam</td>\n",
       "      <td>Free entry in 2 a wkly comp to win FA Cup fina...</td>\n",
       "      <td>NaN</td>\n",
       "      <td>NaN</td>\n",
       "      <td>NaN</td>\n",
       "    </tr>\n",
       "    <tr>\n",
       "      <th>3</th>\n",
       "      <td>ham</td>\n",
       "      <td>U dun say so early hor... U c already then say...</td>\n",
       "      <td>NaN</td>\n",
       "      <td>NaN</td>\n",
       "      <td>NaN</td>\n",
       "    </tr>\n",
       "    <tr>\n",
       "      <th>4</th>\n",
       "      <td>ham</td>\n",
       "      <td>Nah I don't think he goes to usf, he lives aro...</td>\n",
       "      <td>NaN</td>\n",
       "      <td>NaN</td>\n",
       "      <td>NaN</td>\n",
       "    </tr>\n",
       "  </tbody>\n",
       "</table>\n",
       "</div>"
      ],
      "text/plain": [
       "     v1                                                 v2 Unnamed: 2  \\\n",
       "0   ham  Go until jurong point, crazy.. Available only ...        NaN   \n",
       "1   ham                      Ok lar... Joking wif u oni...        NaN   \n",
       "2  spam  Free entry in 2 a wkly comp to win FA Cup fina...        NaN   \n",
       "3   ham  U dun say so early hor... U c already then say...        NaN   \n",
       "4   ham  Nah I don't think he goes to usf, he lives aro...        NaN   \n",
       "\n",
       "  Unnamed: 3 Unnamed: 4  \n",
       "0        NaN        NaN  \n",
       "1        NaN        NaN  \n",
       "2        NaN        NaN  \n",
       "3        NaN        NaN  \n",
       "4        NaN        NaN  "
      ]
     },
     "execution_count": 10,
     "metadata": {},
     "output_type": "execute_result"
    }
   ],
   "source": [
    "df = pd.read_csv(r\"C:\\Users\\arjun\\Downloads\\archive (3)\\spam.csv\", encoding=\"ISO-8859-1\")  # Try this first\n",
    "df.head()\n"
   ]
  },
  {
   "cell_type": "markdown",
   "id": "220084e2-922d-417e-aee1-c00248071834",
   "metadata": {},
   "source": [
    "# Data Preprocessing"
   ]
  },
  {
   "cell_type": "code",
   "execution_count": 11,
   "id": "4276ccbe-5c23-448d-8c65-afa9d2075bb4",
   "metadata": {},
   "outputs": [],
   "source": [
    "df.drop(['Unnamed: 2','Unnamed: 3','Unnamed: 4'],axis=1,inplace=True)"
   ]
  },
  {
   "cell_type": "code",
   "execution_count": 12,
   "id": "618e6242-acb5-4fda-9930-844848cd4eea",
   "metadata": {},
   "outputs": [
    {
     "data": {
      "text/html": [
       "<div>\n",
       "<style scoped>\n",
       "    .dataframe tbody tr th:only-of-type {\n",
       "        vertical-align: middle;\n",
       "    }\n",
       "\n",
       "    .dataframe tbody tr th {\n",
       "        vertical-align: top;\n",
       "    }\n",
       "\n",
       "    .dataframe thead th {\n",
       "        text-align: right;\n",
       "    }\n",
       "</style>\n",
       "<table border=\"1\" class=\"dataframe\">\n",
       "  <thead>\n",
       "    <tr style=\"text-align: right;\">\n",
       "      <th></th>\n",
       "      <th>v1</th>\n",
       "      <th>v2</th>\n",
       "    </tr>\n",
       "  </thead>\n",
       "  <tbody>\n",
       "    <tr>\n",
       "      <th>0</th>\n",
       "      <td>ham</td>\n",
       "      <td>Go until jurong point, crazy.. Available only ...</td>\n",
       "    </tr>\n",
       "    <tr>\n",
       "      <th>1</th>\n",
       "      <td>ham</td>\n",
       "      <td>Ok lar... Joking wif u oni...</td>\n",
       "    </tr>\n",
       "    <tr>\n",
       "      <th>2</th>\n",
       "      <td>spam</td>\n",
       "      <td>Free entry in 2 a wkly comp to win FA Cup fina...</td>\n",
       "    </tr>\n",
       "    <tr>\n",
       "      <th>3</th>\n",
       "      <td>ham</td>\n",
       "      <td>U dun say so early hor... U c already then say...</td>\n",
       "    </tr>\n",
       "    <tr>\n",
       "      <th>4</th>\n",
       "      <td>ham</td>\n",
       "      <td>Nah I don't think he goes to usf, he lives aro...</td>\n",
       "    </tr>\n",
       "  </tbody>\n",
       "</table>\n",
       "</div>"
      ],
      "text/plain": [
       "     v1                                                 v2\n",
       "0   ham  Go until jurong point, crazy.. Available only ...\n",
       "1   ham                      Ok lar... Joking wif u oni...\n",
       "2  spam  Free entry in 2 a wkly comp to win FA Cup fina...\n",
       "3   ham  U dun say so early hor... U c already then say...\n",
       "4   ham  Nah I don't think he goes to usf, he lives aro..."
      ]
     },
     "execution_count": 12,
     "metadata": {},
     "output_type": "execute_result"
    }
   ],
   "source": [
    "df.head()"
   ]
  },
  {
   "cell_type": "code",
   "execution_count": 13,
   "id": "54a6783d-5052-4bd0-adf8-e808db1c1d77",
   "metadata": {},
   "outputs": [
    {
     "data": {
      "text/plain": [
       "v1\n",
       "ham     4825\n",
       "spam     747\n",
       "Name: count, dtype: int64"
      ]
     },
     "execution_count": 13,
     "metadata": {},
     "output_type": "execute_result"
    }
   ],
   "source": [
    "df['v1'].value_counts()"
   ]
  },
  {
   "cell_type": "code",
   "execution_count": 14,
   "id": "c0e2b58a-2204-4eaa-b9aa-8e8549332e92",
   "metadata": {},
   "outputs": [],
   "source": [
    "df['v1']=df['v1'].map({'ham': 0, 'spam': 1})"
   ]
  },
  {
   "cell_type": "code",
   "execution_count": 15,
   "id": "9bbcaf58-41d3-41e9-a9e0-1b1f5d7cc5a0",
   "metadata": {},
   "outputs": [
    {
     "data": {
      "text/html": [
       "<div>\n",
       "<style scoped>\n",
       "    .dataframe tbody tr th:only-of-type {\n",
       "        vertical-align: middle;\n",
       "    }\n",
       "\n",
       "    .dataframe tbody tr th {\n",
       "        vertical-align: top;\n",
       "    }\n",
       "\n",
       "    .dataframe thead th {\n",
       "        text-align: right;\n",
       "    }\n",
       "</style>\n",
       "<table border=\"1\" class=\"dataframe\">\n",
       "  <thead>\n",
       "    <tr style=\"text-align: right;\">\n",
       "      <th></th>\n",
       "      <th>v1</th>\n",
       "      <th>v2</th>\n",
       "    </tr>\n",
       "  </thead>\n",
       "  <tbody>\n",
       "    <tr>\n",
       "      <th>0</th>\n",
       "      <td>0</td>\n",
       "      <td>Go until jurong point, crazy.. Available only ...</td>\n",
       "    </tr>\n",
       "    <tr>\n",
       "      <th>1</th>\n",
       "      <td>0</td>\n",
       "      <td>Ok lar... Joking wif u oni...</td>\n",
       "    </tr>\n",
       "    <tr>\n",
       "      <th>2</th>\n",
       "      <td>1</td>\n",
       "      <td>Free entry in 2 a wkly comp to win FA Cup fina...</td>\n",
       "    </tr>\n",
       "    <tr>\n",
       "      <th>3</th>\n",
       "      <td>0</td>\n",
       "      <td>U dun say so early hor... U c already then say...</td>\n",
       "    </tr>\n",
       "    <tr>\n",
       "      <th>4</th>\n",
       "      <td>0</td>\n",
       "      <td>Nah I don't think he goes to usf, he lives aro...</td>\n",
       "    </tr>\n",
       "  </tbody>\n",
       "</table>\n",
       "</div>"
      ],
      "text/plain": [
       "   v1                                                 v2\n",
       "0   0  Go until jurong point, crazy.. Available only ...\n",
       "1   0                      Ok lar... Joking wif u oni...\n",
       "2   1  Free entry in 2 a wkly comp to win FA Cup fina...\n",
       "3   0  U dun say so early hor... U c already then say...\n",
       "4   0  Nah I don't think he goes to usf, he lives aro..."
      ]
     },
     "execution_count": 15,
     "metadata": {},
     "output_type": "execute_result"
    }
   ],
   "source": [
    "df.head()"
   ]
  },
  {
   "cell_type": "markdown",
   "id": "14e0738d-67a0-4369-9c33-3a00e46316c2",
   "metadata": {},
   "source": [
    "# Model Training"
   ]
  },
  {
   "cell_type": "code",
   "execution_count": 17,
   "id": "7a069d79-75a8-4e5a-9f21-988e63aa4677",
   "metadata": {},
   "outputs": [
    {
     "name": "stdout",
     "output_type": "stream",
     "text": [
      "Accuracy: 0.97\n",
      "Classification Report:\n",
      "               precision    recall  f1-score   support\n",
      "\n",
      "           0       0.99      0.98      0.98       966\n",
      "           1       0.87      0.93      0.90       149\n",
      "\n",
      "    accuracy                           0.97      1115\n",
      "   macro avg       0.93      0.96      0.94      1115\n",
      "weighted avg       0.97      0.97      0.97      1115\n",
      "\n"
     ]
    },
    {
     "data": {
      "image/png": "[encoded data removed]",
      "text/plain": [
       "<Figure size 500x400 with 2 Axes>"
      ]
     },
     "metadata": {},
     "output_type": "display_data"
    }
   ],
   "source": [
    "vectorizer = TfidfVectorizer(stop_words='english')\n",
    "X = vectorizer.fit_transform(df['v2'])  # Replace 'message' with your text column\n",
    "y = df['v1']\n",
    "\n",
    "# Train-test split\n",
    "X_train, X_test, y_train, y_test = train_test_split(X, y, test_size=0.2, random_state=42, stratify=y)\n",
    "\n",
    "# Apply SMOTE to balance classes\n",
    "smote = SMOTE(random_state=42)\n",
    "X_train_bal, y_train_bal = smote.fit_resample(X_train, y_train)\n",
    "\n",
    "# Train Naïve Bayes classifier\n",
    "nb = MultinomialNB()\n",
    "nb.fit(X_train_bal, y_train_bal)\n",
    "\n",
    "# Make predictions\n",
    "y_pred = nb.predict(X_test)\n",
    "\n",
    "# Evaluate the model\n",
    "accuracy = accuracy_score(y_test, y_pred)\n",
    "print(f\"Accuracy: {accuracy:.2f}\")\n",
    "print(\"Classification Report:\\n\", classification_report(y_test, y_pred))\n",
    "\n",
    "# Confusion matrix visualization\n",
    "plt.figure(figsize=(5, 4))\n",
    "sns.heatmap(confusion_matrix(y_test, y_pred), annot=True, fmt='d', cmap='Blues', xticklabels=['Ham', 'Spam'], yticklabels=['Ham', 'Spam'])\n",
    "plt.xlabel(\"Predicted\")\n",
    "plt.ylabel(\"Actual\")\n",
    "plt.title(\"Confusion Matrix\")\n",
    "plt.show()"
   ]
  },
  {
   "cell_type": "code",
   "execution_count": 18,
   "id": "aa21a50a-e1b7-4670-9994-981e7acd3ca0",
   "metadata": {},
   "outputs": [
    {
     "name": "stdout",
     "output_type": "stream",
     "text": [
      "Training Accuracy: 0.99\n",
      "Testing Accuracy: 0.97\n",
      "No Overfitting Detected.\n"
     ]
    }
   ],
   "source": [
    "# Training Accuracy\n",
    "train_accuracy = nb.score(X_train_bal, y_train_bal)\n",
    "print(f\"Training Accuracy: {train_accuracy:.2f}\")\n",
    "\n",
    "# Testing Accuracy\n",
    "test_accuracy = nb.score(X_test, y_test)\n",
    "print(f\"Testing Accuracy: {test_accuracy:.2f}\")\n",
    "\n",
    "# Compare Train & Test Accuracy\n",
    "if train_accuracy - test_accuracy > 0.1:  # 10% difference is a sign of overfitting\n",
    "    print(\"Potential Overfitting Detected!\")\n",
    "else:\n",
    "    print(\"No Overfitting Detected.\")\n"
   ]
  },
  {
   "cell_type": "markdown",
   "id": "beb25d52-a4fe-4a88-831a-5a3c65c336f4",
   "metadata": {},
   "source": [
    "# Testing Model"
   ]
  },
  {
   "cell_type": "code",
   "execution_count": 19,
   "id": "eccf98d1-9130-4b18-9474-fa9de6e91bc3",
   "metadata": {},
   "outputs": [
    {
     "name": "stdout",
     "output_type": "stream",
     "text": [
      "Spam\n"
     ]
    }
   ],
   "source": [
    "sample_text = [\"Congratulations! 🎉 You have won a FREE iPhone 15! Click the link below to claim your prize now. Hurry, limited time offer! 👉 http://fake-prize.com\"]\n",
    "\n",
    "# Convert to numerical features (Assuming you used TF-IDF or CountVectorizer)\n",
    "sample_text_vectorized = vectorizer.transform(sample_text)  \n",
    "\n",
    "# Predict\n",
    "prediction = nb.predict(sample_text_vectorized)\n",
    "\n",
    "# Output Result\n",
    "print(\"Spam\" if prediction[0] == 1 else \"Not Spam\")\n"
   ]
  },
  {
   "cell_type": "code",
   "execution_count": 21,
   "id": "47e28984-9050-4301-a774-1d2bbdffcf49",
   "metadata": {},
   "outputs": [
    {
     "name": "stdout",
     "output_type": "stream",
     "text": [
      "Not Spam\n"
     ]
    }
   ],
   "source": [
    "# Example message to test (Non-Spam)\n",
    "test_message = [\"Hey, are we still meeting for lunch at 1 PM? Let me know if you’re running late!\"]\n",
    "\n",
    "# Convert text into numerical features (assuming you used TF-IDF or CountVectorizer)\n",
    "test_message_transformed = vectorizer.transform(test_message)  # Use the same vectorizer from training\n",
    "\n",
    "# Predict using the trained model\n",
    "prediction = nb.predict(test_message_transformed)\n",
    "\n",
    "# Output result\n",
    "print(\"Spam\" if prediction[0] == 1 else \"Not Spam\")\n"
   ]
  },
  {
   "cell_type": "markdown",
   "id": "bf1b63f3-b90a-4015-aeb3-5845219054ca",
   "metadata": {},
   "source": [
    "# Detailed Report"
   ]
  },
  {
   "cell_type": "markdown",
   "id": "fe9e9942-f908-4168-9fe5-799222054e5a",
   "metadata": {},
   "source": [
    "# Spam Classification Model\n",
    "\n",
    "This repository contains a machine learning model for classifying text messages as either spam or ham (non-spam). The model uses Natural Language Processing (NLP) techniques and a Multinomial Naive Bayes classifier to accurately detect spam messages.\n",
    "\n",
    "## Table of Contents\n",
    "- [Overview](#overview)\n",
    "- [Data Loading and Exploration](#data-loading-and-exploration)\n",
    "- [Data Preprocessing](#data-preprocessing)\n",
    "- [Feature Extraction](#feature-extraction)\n",
    "- [Model Training](#model-training)\n",
    "- [Handling Class Imbalance](#handling-class-imbalance)\n",
    "- [Model Evaluation](#model-evaluation)\n",
    "- [Testing the Model](#testing-the-model)\n",
    "- [Explanation of Evaluation Metrics](#explanation-of-evaluation-metrics)\n",
    "- [Overfitting Analysis](#overfitting-analysis)\n",
    "\n",
    "## Overview\n",
    "\n",
    "Spam detection is a classic problem in text classification. This project implements a spam classifier using the following key components:\n",
    "- TF-IDF vectorization for text feature extraction\n",
    "- SMOTE for handling class imbalance\n",
    "- Multinomial Naive Bayes algorithm for classification\n",
    "- Comprehensive evaluation metrics to measure performance\n",
    "\n",
    "## Data Loading and Exploration\n",
    "\n",
    "```python\n",
    "df = pd.read_csv(r\"C:\\Users\\arjun\\Downloads\\archive (3)\\spam.csv\", encoding=\"ISO-8859-1\")\n",
    "```\n",
    "\n",
    "**Why**: We begin by loading the dataset from a CSV file using pandas. The specific encoding (ISO-8859-1) is specified to handle special characters that might be present in text messages.\n",
    "\n",
    "Initial exploration of the data (`df.head()`) shows the structure of the dataset, which contains:\n",
    "- A label column ('v1') with values 'ham' or 'spam'\n",
    "- A text message column ('v2')\n",
    "- Several unnamed columns that don't contain relevant information\n",
    "\n",
    "## Data Preprocessing\n",
    "\n",
    "```python\n",
    "df.drop(['Unnamed: 2','Unnamed: 3','Unnamed: 4'], axis=1, inplace=True)\n",
    "df['v1'] = df['v1'].map({'ham': 0, 'spam': 1})\n",
    "```\n",
    "\n",
    "**Why**: Preprocessing is crucial for preparing the data for machine learning:\n",
    "1. Removing unnecessary columns reduces noise and improves model efficiency\n",
    "2. Converting categorical labels ('ham'/'spam') to numerical values (0/1) is required for most machine learning algorithms\n",
    "\n",
    "Class distribution analysis (`df['v1'].value_counts()`) reveals a significant imbalance:\n",
    "- Ham (non-spam) messages: 4825\n",
    "- Spam messages: 747\n",
    "\n",
    "This imbalance is important to address during model training.\n",
    "\n",
    "## Feature Extraction\n",
    "\n",
    "```python\n",
    "vectorizer = TfidfVectorizer(stop_words='english')\n",
    "X = vectorizer.fit_transform(df['v2'])\n",
    "```\n",
    "\n",
    "**Why**: Text data must be converted to numerical format for machine learning algorithms:\n",
    "\n",
    "- **TF-IDF Vectorization**: Converts text into numerical features by calculating:\n",
    "  - Term Frequency (TF): How frequently a word appears in a message\n",
    "  - Inverse Document Frequency (IDF): How rare or common a word is across all messages\n",
    "  \n",
    "- **Benefits of TF-IDF**:\n",
    "  - Assigns higher weights to words that are distinctive to a particular class\n",
    "  - Reduces the importance of common words that appear across all text messages\n",
    "  - Handles the removal of English stop words (common words like 'and', 'the', etc.) to focus on meaningful content\n",
    "\n",
    "## Model Training\n",
    "\n",
    "```python\n",
    "X_train, X_test, y_train, y_test = train_test_split(X, y, test_size=0.2, random_state=42, stratify=y)\n",
    "```\n",
    "\n",
    "**Why**: Splitting the data ensures we can evaluate the model's performance on unseen data:\n",
    "- 80% of data used for training the model\n",
    "- 20% reserved for testing\n",
    "- `stratify=y` ensures that the class distribution is maintained in both sets\n",
    "- `random_state=42` ensures reproducibility of results\n",
    "\n",
    "## Handling Class Imbalance\n",
    "\n",
    "```python\n",
    "smote = SMOTE(random_state=42)\n",
    "X_train_bal, y_train_bal = smote.fit_resample(X_train, y_train)\n",
    "```\n",
    "\n",
    "**Why**: The dataset has significantly more ham messages than spam messages. This imbalance can bias the model toward the majority class (ham).\n",
    "\n",
    "- **SMOTE (Synthetic Minority Over-sampling Technique)**:\n",
    "  - Creates synthetic examples of the minority class (spam)\n",
    "  - Helps balance the training data\n",
    "  - Improves the model's ability to detect spam messages\n",
    "  - Does not modify the test set, maintaining a realistic evaluation scenario\n",
    "\n",
    "## Classification Algorithm\n",
    "\n",
    "```python\n",
    "nb = MultinomialNB()\n",
    "nb.fit(X_train_bal, y_train_bal)\n",
    "```\n",
    "\n",
    "**Why**: Multinomial Naive Bayes is chosen for several reasons:\n",
    "- It works well with text classification problems\n",
    "- It's computationally efficient\n",
    "- It performs well with high-dimensional data like TF-IDF vectors\n",
    "- It's particularly effective for document classification tasks\n",
    "- It handles the probabilistic nature of spam detection well\n",
    "\n",
    "## Model Evaluation\n",
    "\n",
    "```python\n",
    "y_pred = nb.predict(X_test)\n",
    "accuracy = accuracy_score(y_test, y_pred)\n",
    "print(f\"Accuracy: {accuracy:.2f}\")\n",
    "print(\"Classification Report:\\n\", classification_report(y_test, y_pred))\n",
    "```\n",
    "\n",
    "**Why**: Comprehensive evaluation provides insights into various aspects of model performance:\n",
    "- Overall accuracy\n",
    "- Class-specific metrics (precision, recall, F1-score)\n",
    "- Visualization of results via confusion matrix\n",
    "\n",
    "## Testing the Model\n",
    "\n",
    "```python\n",
    "sample_text = [\"Congratulations! 🎉 You have won a FREE iPhone 15! Click the link below to claim your prize now. Hurry, limited time offer! 🎉 http://fake-prize.com\"]\n",
    "sample_text_vectorized = vectorizer.transform(sample_text)\n",
    "prediction = nb.predict(sample_text_vectorized)\n",
    "```\n",
    "\n",
    "**Why**: Real-world testing with new examples demonstrates practical application:\n",
    "- Tests the model with obvious spam and non-spam examples\n",
    "- Verifies the model's ability to generalize to new, unseen data\n",
    "- Confirms the entire pipeline (vectorization + classification) works correctly\n",
    "\n",
    "## Explanation of Evaluation Metrics\n",
    "\n",
    "### Accuracy (97%)\n",
    "- **What it is**: The proportion of correctly classified messages (both spam and ham) out of all messages\n",
    "- **Why it matters**: Provides an overall measure of model performance\n",
    "- **Interpretation**: The model correctly classifies 97% of all messages\n",
    "\n",
    "### Precision\n",
    "- **For Ham (0.99)**: \n",
    "  - **What it is**: When the model predicts a message is ham, it's correct 99% of the time\n",
    "  - **Why it matters**: High precision for ham means users rarely miss legitimate messages\n",
    "\n",
    "- **For Spam (0.87)**:\n",
    "  - **What it is**: When the model predicts a message is spam, it's correct 87% of the time\n",
    "  - **Why it matters**: Lower precision for spam means some legitimate messages might be misclassified as spam\n",
    "\n",
    "### Recall\n",
    "- **For Ham (0.98)**:\n",
    "  - **What it is**: The model correctly identifies 98% of all actual ham messages\n",
    "  - **Why it matters**: High ham recall means most legitimate messages are correctly classified\n",
    "\n",
    "- **For Spam (0.93)**:\n",
    "  - **What it is**: The model correctly identifies 93% of all actual spam messages\n",
    "  - **Why it matters**: High spam recall means most spam messages are caught\n",
    "\n",
    "### F1-Score\n",
    "- **What it is**: The harmonic mean of precision and recall\n",
    "- **Why it matters**: Balances the trade-off between precision and recall\n",
    "- **Interpretation**: \n",
    "  - Ham F1-score (0.98): Excellent balance between precision and recall for ham\n",
    "  - Spam F1-score (0.90): Good balance between precision and recall for spam\n",
    "\n",
    "### Confusion Matrix\n",
    "- **What it is**: A table showing the counts of true positives, false positives, true negatives, and false negatives\n",
    "- **Why it matters**: Visualizes where the model makes errors\n",
    "- **Interpretation**: The heatmap shows the distribution of correct and incorrect predictions\n",
    "\n",
    "## Overfitting Analysis\n",
    "\n",
    "```python\n",
    "train_accuracy = nb.score(X_train_bal, y_train_bal)  # 0.99\n",
    "test_accuracy = nb.score(X_test, y_test)             # 0.97\n",
    "```\n",
    "\n",
    "**Why**: Comparing training and testing accuracy helps detect overfitting:\n",
    "- Training accuracy (0.99): How well the model performs on data it has seen\n",
    "- Testing accuracy (0.97): How well the model generalizes to new data\n",
    "- Difference (0.02 or 2%): Small difference indicates minimal overfitting\n",
    "- Conclusion: \"No Overfitting Detected\" because the difference is less than 10%\n",
    "\n",
    "## Conclusion\n",
    "\n",
    "The spam classification model achieves high accuracy (97%) with a good balance between precision and recall for both spam and ham classes. The small difference between training and testing accuracy suggests the model generalizes well to new data without overfitting. The model successfully classifies obvious examples of both spam and non-spam messages in the final testing phase."
   ]
  }
 ],
 "metadata": {
  "kernelspec": {
   "display_name": "Python 3 (ipykernel)",
   "language": "python",
   "name": "python3"
  },
  "language_info": {
   "codemirror_mode": {
    "name": "ipython",
    "version": 3
   },
   "file_extension": ".py",
   "mimetype": "text/x-python",
   "name": "python",
   "nbconvert_exporter": "python",
   "pygments_lexer": "ipython3",
   "version": "3.10.2"
  }
 },
 "nbformat": 4,
 "nbformat_minor": 5
}
